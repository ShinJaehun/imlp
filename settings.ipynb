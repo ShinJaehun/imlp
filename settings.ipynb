{
 "cells": [
  {
   "cell_type": "code",
   "execution_count": 5,
   "id": "3c6b3b74",
   "metadata": {},
   "outputs": [
    {
     "name": "stdout",
     "output_type": "stream",
     "text": [
      "Python version :  3.11.2 (main, Mar 27 2023, 23:42:44) [GCC 11.2.0]\n",
      "pandas version :  1.5.3\n",
      "matplotlib version :  3.7.1\n",
      "numpy version :  1.23.5\n",
      "scipy version :  1.10.0\n",
      "IPython version :  8.10.0\n",
      "sklearn version :  1.2.2\n"
     ]
    }
   ],
   "source": [
    "import sys\n",
    "print(\"Python version : \", sys.version)\n",
    "import pandas as pd\n",
    "print(\"pandas version : \", pd.__version__)\n",
    "import matplotlib\n",
    "print(\"matplotlib version : \", matplotlib.__version__)\n",
    "import numpy as np\n",
    "print(\"numpy version : \", np.__version__)\n",
    "# import mglearn\n",
    "import scipy as sp\n",
    "print(\"scipy version : \", sp.__version__)\n",
    "import IPython\n",
    "print(\"IPython version : \", IPython.__version__)\n",
    "import sklearn\n",
    "print(\"sklearn version : \", sklearn.__version__)"
   ]
  },
  {
   "cell_type": "code",
   "execution_count": 7,
   "id": "a42b69fa",
   "metadata": {},
   "outputs": [],
   "source": [
    "import mglearn\n"
   ]
  }
 ],
 "metadata": {
  "kernelspec": {
   "display_name": "Python 3 (ipykernel)",
   "language": "python",
   "name": "python3"
  },
  "language_info": {
   "codemirror_mode": {
    "name": "ipython",
    "version": 3
   },
   "file_extension": ".py",
   "mimetype": "text/x-python",
   "name": "python",
   "nbconvert_exporter": "python",
   "pygments_lexer": "ipython3",
   "version": "3.11.2"
  }
 },
 "nbformat": 4,
 "nbformat_minor": 5
}
